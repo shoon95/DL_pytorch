{
 "cells": [
  {
   "cell_type": "code",
   "execution_count": 1,
   "id": "92dbc902",
   "metadata": {},
   "outputs": [],
   "source": [
    "import torch\n",
    "import torch.nn as nn\n",
    "import torch.nn.functional as F\n",
    "import torch.optim as optim"
   ]
  },
  {
   "cell_type": "code",
   "execution_count": 2,
   "id": "70e8c714",
   "metadata": {},
   "outputs": [
    {
     "data": {
      "text/plain": [
       "<torch._C.Generator at 0x2235b79d830>"
      ]
     },
     "execution_count": 2,
     "metadata": {},
     "output_type": "execute_result"
    }
   ],
   "source": [
    "torch.manual_seed(1)"
   ]
  },
  {
   "cell_type": "markdown",
   "id": "3e5d3794",
   "metadata": {},
   "source": [
    "## 가설\n",
    "$ H(x) = w_1x_1  + w_2x_2 + w_3 x_3 + b $"
   ]
  },
  {
   "cell_type": "code",
   "execution_count": 3,
   "id": "dd1602d1",
   "metadata": {},
   "outputs": [],
   "source": [
    "# 훈련 데이터\n",
    "\n",
    "x1_train = torch.FloatTensor([[73], [93], [89], [96], [73]])\n",
    "x2_train = torch.FloatTensor([[80], [88], [91], [98], [66]])\n",
    "x3_train = torch.FloatTensor([[75], [93], [90], [100], [70]])\n",
    "y_train = torch.FloatTensor([[152], [185], [180], [196], [142]])"
   ]
  },
  {
   "cell_type": "code",
   "execution_count": 4,
   "id": "e2f15f45",
   "metadata": {},
   "outputs": [],
   "source": [
    "# 가중치 (w) 편향 (b) 선언\n",
    "\n",
    "w1 = torch.zeros(1, requires_grad=True)\n",
    "w2 = torch.zeros(1, requires_grad=True)\n",
    "w3 = torch.zeros(1, requires_grad=True)\n",
    "b = torch.zeros(1, requires_grad=True)"
   ]
  },
  {
   "cell_type": "code",
   "execution_count": 5,
   "id": "3f8eb4e0",
   "metadata": {},
   "outputs": [
    {
     "name": "stdout",
     "output_type": "stream",
     "text": [
      "epoch : 0, w1 : 0.294, w2 : 0.294, w3 : 0.297, b : 0.003, cost : 29661.800781\n",
      "epoch : 100, w1 : 0.674, w2 : 0.661, w3 : 0.676, b : 0.008, cost : 1.563634\n",
      "epoch : 200, w1 : 0.679, w2 : 0.655, w3 : 0.677, b : 0.008, cost : 1.497607\n",
      "epoch : 300, w1 : 0.684, w2 : 0.649, w3 : 0.677, b : 0.008, cost : 1.435026\n",
      "epoch : 400, w1 : 0.689, w2 : 0.643, w3 : 0.678, b : 0.008, cost : 1.375730\n",
      "epoch : 500, w1 : 0.694, w2 : 0.638, w3 : 0.678, b : 0.009, cost : 1.319511\n",
      "epoch : 600, w1 : 0.699, w2 : 0.633, w3 : 0.679, b : 0.009, cost : 1.266222\n",
      "epoch : 700, w1 : 0.704, w2 : 0.627, w3 : 0.679, b : 0.009, cost : 1.215696\n",
      "epoch : 800, w1 : 0.709, w2 : 0.622, w3 : 0.679, b : 0.009, cost : 1.167818\n",
      "epoch : 900, w1 : 0.713, w2 : 0.617, w3 : 0.680, b : 0.009, cost : 1.122429\n",
      "epoch : 1000, w1 : 0.718, w2 : 0.613, w3 : 0.680, b : 0.009, cost : 1.079378\n"
     ]
    }
   ],
   "source": [
    "optimizer = optim.SGD([w1, w2, w3, b], lr=1e-5)\n",
    "\n",
    "nb_epochs = 1000\n",
    "for epoch in range(nb_epochs+1):\n",
    "    h = w1*x1_train + w2*x2_train + w3*x3_train + b\n",
    "    cost = torch.mean((h - y_train)**2)\n",
    "    \n",
    "    optimizer.zero_grad()\n",
    "    cost.backward()\n",
    "    optimizer.step()\n",
    "    \n",
    "    if epoch % 100 == 0:\n",
    "        print('epoch : {}, w1 : {:.3f}, w2 : {:.3f}, w3 : {:.3f}, b : {:.3f}, cost : {:.6f}'.format(epoch, w1.item(), w2.item(), w3.item(), b.item(), cost.item()))"
   ]
  },
  {
   "cell_type": "markdown",
   "id": "b5a926ab",
   "metadata": {},
   "source": [
    "## 백터와 행렬 연산으로 바꾸기\n",
    "\n",
    "행렬 곱셈 연산(또는 벡터의 내적)을 사용"
   ]
  },
  {
   "cell_type": "markdown",
   "id": "fdeee396",
   "metadata": {},
   "source": [
    "$ H(x) = w_1x_1+w_2x_2+w_3x_3+b $\n",
    "  \n",
    "  \n",
    "$\\begin{pmatrix}x_1 & x_2 & x_3\\end{pmatrix}$ $\\cdot$ $\\begin{pmatrix}w_1 \\\\ w_2 \\\\ w_3\\end{pmatrix}$ = $\\begin{pmatrix} x_1w_1+x_2w_2+x_3w_3 \\end{pmatrix}$\n",
    "  \n",
    "$ H(X) = XW $"
   ]
  },
  {
   "cell_type": "code",
   "execution_count": 6,
   "id": "2d999047",
   "metadata": {},
   "outputs": [],
   "source": [
    "x_train = torch.FloatTensor([[73, 80, 75],\n",
    "                            [93, 88, 93],\n",
    "                            [89, 91, 80],\n",
    "                            [96, 98, 100],\n",
    "                            [73, 66, 70]])\n",
    "y_train = torch.FloatTensor([[152], [185], [180], [196], [142]])"
   ]
  },
  {
   "cell_type": "code",
   "execution_count": 7,
   "id": "aa8a4004",
   "metadata": {},
   "outputs": [
    {
     "name": "stdout",
     "output_type": "stream",
     "text": [
      "torch.Size([5, 3])\n",
      "torch.Size([5, 1])\n"
     ]
    }
   ],
   "source": [
    "print(x_train.shape)\n",
    "print(y_train.shape)"
   ]
  },
  {
   "cell_type": "code",
   "execution_count": 9,
   "id": "aec865c1",
   "metadata": {},
   "outputs": [],
   "source": [
    "W = torch.zeros((3,1), requires_grad=True)\n",
    "b = torch.zeros(1, requires_grad=True)"
   ]
  },
  {
   "cell_type": "code",
   "execution_count": 10,
   "id": "95f3dddb",
   "metadata": {},
   "outputs": [],
   "source": [
    "optimizer = optim.SGD([W,b], lr=1e-5)"
   ]
  },
  {
   "cell_type": "code",
   "execution_count": 17,
   "id": "3f36d349",
   "metadata": {},
   "outputs": [
    {
     "name": "stdout",
     "output_type": "stream",
     "text": [
      "Epoch    0/20 hypothesis: tensor([66.7178, 80.1701, 76.1025, 86.0194, 61.1565]) Cost: 9537.694336\n",
      "Epoch    1/20 hypothesis: tensor([104.5421, 125.6208, 119.2478, 134.7861,  95.8280]) Cost: 3069.590820\n",
      "Epoch    2/20 hypothesis: tensor([125.9858, 151.3882, 143.7087, 162.4333, 115.4844]) Cost: 990.670288\n",
      "Epoch    3/20 hypothesis: tensor([138.1429, 165.9963, 157.5768, 178.1071, 126.6283]) Cost: 322.481873\n",
      "Epoch    4/20 hypothesis: tensor([145.0350, 174.2780, 165.4395, 186.9928, 132.9461]) Cost: 107.717064\n",
      "Epoch    5/20 hypothesis: tensor([148.9423, 178.9730, 169.8976, 192.0301, 136.5279]) Cost: 38.687496\n",
      "Epoch    6/20 hypothesis: tensor([151.1574, 181.6346, 172.4254, 194.8856, 138.5585]) Cost: 16.499043\n",
      "Epoch    7/20 hypothesis: tensor([152.4131, 183.1435, 173.8590, 196.5043, 139.7097]) Cost: 9.365656\n",
      "Epoch    8/20 hypothesis: tensor([153.1250, 183.9988, 174.6723, 197.4217, 140.3625]) Cost: 7.071114\n",
      "Epoch    9/20 hypothesis: tensor([153.5285, 184.4835, 175.1338, 197.9415, 140.7325]) Cost: 6.331847\n",
      "Epoch   10/20 hypothesis: tensor([153.7572, 184.7582, 175.3958, 198.2360, 140.9424]) Cost: 6.092532\n",
      "Epoch   11/20 hypothesis: tensor([153.8868, 184.9138, 175.5449, 198.4026, 141.0613]) Cost: 6.013817\n",
      "Epoch   12/20 hypothesis: tensor([153.9602, 185.0019, 175.6299, 198.4969, 141.1288]) Cost: 5.986785\n",
      "Epoch   13/20 hypothesis: tensor([154.0017, 185.0517, 175.6785, 198.5500, 141.1671]) Cost: 5.976325\n",
      "Epoch   14/20 hypothesis: tensor([154.0252, 185.0798, 175.7065, 198.5800, 141.1888]) Cost: 5.971208\n",
      "Epoch   15/20 hypothesis: tensor([154.0385, 185.0956, 175.7229, 198.5966, 141.2012]) Cost: 5.967835\n",
      "Epoch   16/20 hypothesis: tensor([154.0459, 185.1045, 175.7326, 198.6059, 141.2082]) Cost: 5.964969\n",
      "Epoch   17/20 hypothesis: tensor([154.0501, 185.1094, 175.7386, 198.6108, 141.2122]) Cost: 5.962291\n",
      "Epoch   18/20 hypothesis: tensor([154.0524, 185.1120, 175.7424, 198.6134, 141.2145]) Cost: 5.959664\n",
      "Epoch   19/20 hypothesis: tensor([154.0536, 185.1134, 175.7451, 198.6145, 141.2158]) Cost: 5.957089\n",
      "Epoch   20/20 hypothesis: tensor([154.0543, 185.1140, 175.7470, 198.6150, 141.2166]) Cost: 5.954494\n"
     ]
    }
   ],
   "source": [
    "nb_epochs = 20\n",
    "for epoch in range(nb_epochs + 1):\n",
    "    h = x_train.matmul(W) + b\n",
    "    cost =  torch.mean((h - y_train)**2)\n",
    "    \n",
    "    optimizer.zero_grad()\n",
    "    cost.backward()\n",
    "    optimizer.step()\n",
    "    \n",
    "    print('Epoch {:4d}/{} hypothesis: {} Cost: {:.6f}'.format(\n",
    "        epoch, nb_epochs, h.squeeze().detach(), cost.item()))"
   ]
  }
 ],
 "metadata": {
  "kernelspec": {
   "display_name": "Python 3 (ipykernel)",
   "language": "python",
   "name": "python3"
  },
  "language_info": {
   "codemirror_mode": {
    "name": "ipython",
    "version": 3
   },
   "file_extension": ".py",
   "mimetype": "text/x-python",
   "name": "python",
   "nbconvert_exporter": "python",
   "pygments_lexer": "ipython3",
   "version": "3.9.13"
  }
 },
 "nbformat": 4,
 "nbformat_minor": 5
}

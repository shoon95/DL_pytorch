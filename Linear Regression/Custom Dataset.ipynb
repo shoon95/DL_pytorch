{
 "cells": [
  {
   "cell_type": "code",
   "execution_count": 1,
   "id": "f9df674c",
   "metadata": {},
   "outputs": [],
   "source": [
    "import torch\n",
    "import torch.nn as nn\n",
    "import torch.nn.functional as F\n",
    "from torch.utils.data import Dataset\n",
    "from torch.utils.data import DataLoader"
   ]
  },
  {
   "cell_type": "code",
   "execution_count": 2,
   "id": "4a3c6767",
   "metadata": {},
   "outputs": [],
   "source": [
    "# Dataset 상속\n",
    "class CustomDataset(Dataset):\n",
    "    def __init__(self):\n",
    "        self.x_data = [[73, 80, 75],\n",
    "                      [93, 98, 93],\n",
    "                      [89, 91, 90],\n",
    "                      [96, 98, 100],\n",
    "                      [73, 66, 70]]\n",
    "        self.y_data = [[152], [185], [180], [196], [142]]\n",
    "        \n",
    "    def __len__(self):\n",
    "        return len(self.x_data)\n",
    "        \n",
    "    def __getitem__(self, idx):\n",
    "        x = torch.FloatTensor(self.x_data[idx])\n",
    "        y = torch.FloatTensor(self.y_data[idx])\n",
    "        return x, y"
   ]
  },
  {
   "cell_type": "code",
   "execution_count": 3,
   "id": "e980a51c",
   "metadata": {},
   "outputs": [],
   "source": [
    "dataset = CustomDataset()\n",
    "dataloader = DataLoader(dataset,batch_size=2, shuffle=True)"
   ]
  },
  {
   "cell_type": "code",
   "execution_count": 6,
   "id": "757e1870",
   "metadata": {},
   "outputs": [],
   "source": [
    "model = nn.Linear(3, 1)\n",
    "optimizer = torch.optim.SGD(model.parameters(), lr=1e-5)"
   ]
  },
  {
   "cell_type": "code",
   "execution_count": 9,
   "id": "3b10f4f5",
   "metadata": {},
   "outputs": [
    {
     "name": "stdout",
     "output_type": "stream",
     "text": [
      "Epoch    0/20 Batch 1/3 Cost: 36738.140625\n",
      "Epoch    0/20 Batch 2/3 Cost: 8899.740234\n",
      "Epoch    0/20 Batch 3/3 Cost: 4145.068848\n",
      "Epoch    1/20 Batch 1/3 Cost: 937.192383\n",
      "Epoch    1/20 Batch 2/3 Cost: 266.941650\n",
      "Epoch    1/20 Batch 3/3 Cost: 46.906490\n",
      "Epoch    2/20 Batch 1/3 Cost: 21.562485\n",
      "Epoch    2/20 Batch 2/3 Cost: 12.364710\n",
      "Epoch    2/20 Batch 3/3 Cost: 10.924893\n",
      "Epoch    3/20 Batch 1/3 Cost: 2.507146\n",
      "Epoch    3/20 Batch 2/3 Cost: 5.122986\n",
      "Epoch    3/20 Batch 3/3 Cost: 0.826053\n",
      "Epoch    4/20 Batch 1/3 Cost: 0.238285\n",
      "Epoch    4/20 Batch 2/3 Cost: 1.547651\n",
      "Epoch    4/20 Batch 3/3 Cost: 12.334205\n",
      "Epoch    5/20 Batch 1/3 Cost: 2.513994\n",
      "Epoch    5/20 Batch 2/3 Cost: 2.581138\n",
      "Epoch    5/20 Batch 3/3 Cost: 5.355493\n",
      "Epoch    6/20 Batch 1/3 Cost: 1.141471\n",
      "Epoch    6/20 Batch 2/3 Cost: 6.925027\n",
      "Epoch    6/20 Batch 3/3 Cost: 0.789250\n",
      "Epoch    7/20 Batch 1/3 Cost: 0.228712\n",
      "Epoch    7/20 Batch 2/3 Cost: 6.217790\n",
      "Epoch    7/20 Batch 3/3 Cost: 0.491813\n",
      "Epoch    8/20 Batch 1/3 Cost: 4.498960\n",
      "Epoch    8/20 Batch 2/3 Cost: 3.210871\n",
      "Epoch    8/20 Batch 3/3 Cost: 0.269691\n",
      "Epoch    9/20 Batch 1/3 Cost: 5.290833\n",
      "Epoch    9/20 Batch 2/3 Cost: 2.765944\n",
      "Epoch    9/20 Batch 3/3 Cost: 0.052275\n",
      "Epoch   10/20 Batch 1/3 Cost: 1.292248\n",
      "Epoch   10/20 Batch 2/3 Cost: 0.025563\n",
      "Epoch   10/20 Batch 3/3 Cost: 12.440432\n",
      "Epoch   11/20 Batch 1/3 Cost: 2.521743\n",
      "Epoch   11/20 Batch 2/3 Cost: 2.965883\n",
      "Epoch   11/20 Batch 3/3 Cost: 5.110265\n",
      "Epoch   12/20 Batch 1/3 Cost: 6.840520\n",
      "Epoch   12/20 Batch 2/3 Cost: 0.289291\n",
      "Epoch   12/20 Batch 3/3 Cost: 0.099044\n",
      "Epoch   13/20 Batch 1/3 Cost: 5.077897\n",
      "Epoch   13/20 Batch 2/3 Cost: 3.247037\n",
      "Epoch   13/20 Batch 3/3 Cost: 0.236100\n",
      "Epoch   14/20 Batch 1/3 Cost: 1.252463\n",
      "Epoch   14/20 Batch 2/3 Cost: 6.577570\n",
      "Epoch   14/20 Batch 3/3 Cost: 0.215895\n",
      "Epoch   15/20 Batch 1/3 Cost: 4.295587\n",
      "Epoch   15/20 Batch 2/3 Cost: 3.585461\n",
      "Epoch   15/20 Batch 3/3 Cost: 0.286376\n",
      "Epoch   16/20 Batch 1/3 Cost: 6.474321\n",
      "Epoch   16/20 Batch 2/3 Cost: 0.481758\n",
      "Epoch   16/20 Batch 3/3 Cost: 0.012003\n",
      "Epoch   17/20 Batch 1/3 Cost: 0.038090\n",
      "Epoch   17/20 Batch 2/3 Cost: 1.482474\n",
      "Epoch   17/20 Batch 3/3 Cost: 12.931605\n",
      "Epoch   18/20 Batch 1/3 Cost: 5.402688\n",
      "Epoch   18/20 Batch 2/3 Cost: 3.913676\n",
      "Epoch   18/20 Batch 3/3 Cost: 1.060143\n",
      "Epoch   19/20 Batch 1/3 Cost: 0.488582\n",
      "Epoch   19/20 Batch 2/3 Cost: 4.516092\n",
      "Epoch   19/20 Batch 3/3 Cost: 5.816652\n",
      "Epoch   20/20 Batch 1/3 Cost: 1.243091\n",
      "Epoch   20/20 Batch 2/3 Cost: 6.591287\n",
      "Epoch   20/20 Batch 3/3 Cost: 0.212182\n"
     ]
    }
   ],
   "source": [
    "nb_epochs = 20\n",
    "for epoch in range(nb_epochs + 1):\n",
    "    for batch_idx, samples in enumerate(dataloader):\n",
    "        x_train, y_train = samples\n",
    "        prediction = model(x_train)\n",
    "        cost = F.mse_loss(prediction, y_train)\n",
    "        \n",
    "        optimizer.zero_grad()\n",
    "        cost.backward()\n",
    "        optimizer.step()\n",
    "        \n",
    "        print('Epoch {:4d}/{} Batch {}/{} Cost: {:.6f}'.format(\n",
    "        epoch, nb_epochs, batch_idx+1, len(dataloader),\n",
    "        cost.item()\n",
    "        ))"
   ]
  }
 ],
 "metadata": {
  "kernelspec": {
   "display_name": "Python 3 (ipykernel)",
   "language": "python",
   "name": "python3"
  },
  "language_info": {
   "codemirror_mode": {
    "name": "ipython",
    "version": 3
   },
   "file_extension": ".py",
   "mimetype": "text/x-python",
   "name": "python",
   "nbconvert_exporter": "python",
   "pygments_lexer": "ipython3",
   "version": "3.9.13"
  }
 },
 "nbformat": 4,
 "nbformat_minor": 5
}

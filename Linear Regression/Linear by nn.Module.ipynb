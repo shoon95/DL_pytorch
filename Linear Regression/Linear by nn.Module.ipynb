{
 "cells": [
  {
   "cell_type": "code",
   "execution_count": 2,
   "id": "15f8d098",
   "metadata": {},
   "outputs": [],
   "source": [
    "import torch\n",
    "import torch.nn as nn\n",
    "import torch.nn.functional as F"
   ]
  },
  {
   "cell_type": "code",
   "execution_count": 3,
   "id": "d322fe99",
   "metadata": {},
   "outputs": [
    {
     "data": {
      "text/plain": [
       "<torch._C.Generator at 0x203836a5810>"
      ]
     },
     "execution_count": 3,
     "metadata": {},
     "output_type": "execute_result"
    }
   ],
   "source": [
    "torch.manual_seed(1)"
   ]
  },
  {
   "cell_type": "markdown",
   "id": "f090b518",
   "metadata": {},
   "source": [
    "## 단순 선형 "
   ]
  },
  {
   "cell_type": "code",
   "execution_count": 4,
   "id": "ff72a084",
   "metadata": {},
   "outputs": [],
   "source": [
    "x_train = torch.FloatTensor([[1], [2], [3]])\n",
    "y_train = torch.FloatTensor([[2], [4], [6]])"
   ]
  },
  {
   "cell_type": "code",
   "execution_count": 5,
   "id": "f2d55b60",
   "metadata": {},
   "outputs": [],
   "source": [
    "model = nn.Linear(1, 1)"
   ]
  },
  {
   "cell_type": "code",
   "execution_count": 8,
   "id": "1ee05782",
   "metadata": {},
   "outputs": [],
   "source": [
    "optimizer = torch.optim.SGD(model.parameters(), lr=0.01)"
   ]
  },
  {
   "cell_type": "code",
   "execution_count": 9,
   "id": "5f0a8924",
   "metadata": {
    "collapsed": true
   },
   "outputs": [
    {
     "name": "stdout",
     "output_type": "stream",
     "text": [
      "Epoch    0/2000 Cost: 13.103541\n",
      "Epoch  100/2000 Cost: 0.002791\n",
      "Epoch  200/2000 Cost: 0.001724\n",
      "Epoch  300/2000 Cost: 0.001066\n",
      "Epoch  400/2000 Cost: 0.000658\n",
      "Epoch  500/2000 Cost: 0.000407\n",
      "Epoch  600/2000 Cost: 0.000251\n",
      "Epoch  700/2000 Cost: 0.000155\n",
      "Epoch  800/2000 Cost: 0.000096\n",
      "Epoch  900/2000 Cost: 0.000059\n",
      "Epoch 1000/2000 Cost: 0.000037\n",
      "Epoch 1100/2000 Cost: 0.000023\n",
      "Epoch 1200/2000 Cost: 0.000014\n",
      "Epoch 1300/2000 Cost: 0.000009\n",
      "Epoch 1400/2000 Cost: 0.000005\n",
      "Epoch 1500/2000 Cost: 0.000003\n",
      "Epoch 1600/2000 Cost: 0.000002\n",
      "Epoch 1700/2000 Cost: 0.000001\n",
      "Epoch 1800/2000 Cost: 0.000001\n",
      "Epoch 1900/2000 Cost: 0.000000\n",
      "Epoch 2000/2000 Cost: 0.000000\n"
     ]
    }
   ],
   "source": [
    "nb_epochs = 2000\n",
    "for epoch in range(nb_epochs+1):\n",
    "    \n",
    "    prediction = model(x_train)\n",
    "    \n",
    "    cost = F.mse_loss(prediction, y_train)\n",
    "    \n",
    "    optimizer.zero_grad()\n",
    "    cost.backward()\n",
    "    optimizer.step()\n",
    "    \n",
    "    if epoch % 100 == 0:\n",
    "    # 100번마다 로그 출력\n",
    "      print('Epoch {:4d}/{} Cost: {:.6f}'.format(\n",
    "          epoch, nb_epochs, cost.item()\n",
    "      ))"
   ]
  },
  {
   "cell_type": "code",
   "execution_count": 32,
   "id": "44976f75",
   "metadata": {},
   "outputs": [],
   "source": [
    "new_var = torch.FloatTensor([[4.0]])"
   ]
  },
  {
   "cell_type": "code",
   "execution_count": 34,
   "id": "4062b3cd",
   "metadata": {},
   "outputs": [],
   "source": [
    "pred_y = model(new_var)"
   ]
  },
  {
   "cell_type": "code",
   "execution_count": 36,
   "id": "5d367348",
   "metadata": {},
   "outputs": [
    {
     "name": "stdout",
     "output_type": "stream",
     "text": [
      "tensor([[7.9989]], grad_fn=<AddmmBackward0>)\n"
     ]
    }
   ],
   "source": [
    "print(pred_y)"
   ]
  },
  {
   "cell_type": "code",
   "execution_count": 37,
   "id": "737eca50",
   "metadata": {},
   "outputs": [
    {
     "name": "stdout",
     "output_type": "stream",
     "text": [
      "[Parameter containing:\n",
      "tensor([[1.9994]], requires_grad=True), Parameter containing:\n",
      "tensor([0.0014], requires_grad=True)]\n"
     ]
    }
   ],
   "source": [
    "print(list(model.parameters()))"
   ]
  },
  {
   "cell_type": "markdown",
   "id": "3ab12cf3",
   "metadata": {},
   "source": [
    "## 다중 선형 회귀\n",
    "$H(x) = w_1x_1+w_2x_2+w_3x_3+b$"
   ]
  },
  {
   "cell_type": "code",
   "execution_count": 40,
   "id": "d9ae3f73",
   "metadata": {},
   "outputs": [],
   "source": [
    "# 데이터\n",
    "x_train = torch.FloatTensor([[73, 80, 75],\n",
    "                            [93, 88, 93],\n",
    "                            [89, 91, 90],\n",
    "                            [96, 98, 199],\n",
    "                            [73, 66, 70]])\n",
    "\n",
    "y_train = torch.FloatTensor([[152], [185], [180], [196], [142]])"
   ]
  },
  {
   "cell_type": "code",
   "execution_count": 41,
   "id": "83efdedb",
   "metadata": {},
   "outputs": [],
   "source": [
    "model = nn.Linear(3,1)"
   ]
  },
  {
   "cell_type": "code",
   "execution_count": 45,
   "id": "a6efbf91",
   "metadata": {},
   "outputs": [],
   "source": [
    "optimizer = torch.optim.SGD(model.parameters(), lr=1e-5)"
   ]
  },
  {
   "cell_type": "code",
   "execution_count": 51,
   "id": "cbd8a951",
   "metadata": {
    "scrolled": true
   },
   "outputs": [
    {
     "name": "stdout",
     "output_type": "stream",
     "text": [
      "Epoch    0/2000 Cost: 47754.671875\n",
      "Epoch  100/2000 Cost: 15.029042\n",
      "Epoch  200/2000 Cost: 7.048715\n",
      "Epoch  300/2000 Cost: 6.452153\n",
      "Epoch  400/2000 Cost: 6.139901\n",
      "Epoch  500/2000 Cost: 5.852303\n",
      "Epoch  600/2000 Cost: 5.579270\n",
      "Epoch  700/2000 Cost: 5.319701\n",
      "Epoch  800/2000 Cost: 5.072944\n",
      "Epoch  900/2000 Cost: 4.838360\n",
      "Epoch 1000/2000 Cost: 4.615334\n",
      "Epoch 1100/2000 Cost: 4.403294\n",
      "Epoch 1200/2000 Cost: 4.201726\n",
      "Epoch 1300/2000 Cost: 4.010065\n",
      "Epoch 1400/2000 Cost: 3.827874\n",
      "Epoch 1500/2000 Cost: 3.654667\n",
      "Epoch 1600/2000 Cost: 3.490004\n",
      "Epoch 1700/2000 Cost: 3.333488\n",
      "Epoch 1800/2000 Cost: 3.184637\n",
      "Epoch 1900/2000 Cost: 3.043132\n",
      "Epoch 2000/2000 Cost: 2.908632\n"
     ]
    }
   ],
   "source": [
    "nb_epochs = 2000\n",
    "for epoch in range(nb_epochs+1):\n",
    "    prediction = model(x_train)\n",
    "    cost = F.mse_loss(prediction, y_train)\n",
    "    \n",
    "    optimizer.zero_grad()\n",
    "    cost.backward()\n",
    "    optimizer.step()\n",
    "    \n",
    "    if epoch % 100 == 0:\n",
    "    # 100번마다 로그 출력\n",
    "      print('Epoch {:4d}/{} Cost: {:.6f}'.format(\n",
    "          epoch, nb_epochs, cost.item()\n",
    "      ))"
   ]
  },
  {
   "cell_type": "code",
   "execution_count": 66,
   "id": "d3924a36",
   "metadata": {},
   "outputs": [],
   "source": [
    "new_var = torch.FloatTensor([[73, 80, 75]])"
   ]
  },
  {
   "cell_type": "code",
   "execution_count": 69,
   "id": "86226d29",
   "metadata": {},
   "outputs": [],
   "source": [
    "pred_y = model(new_var)"
   ]
  },
  {
   "cell_type": "code",
   "execution_count": 70,
   "id": "3dcd37a2",
   "metadata": {},
   "outputs": [
    {
     "name": "stdout",
     "output_type": "stream",
     "text": [
      "[Parameter containing:\n",
      "tensor([[1.0320, 0.9767, 0.0047]], requires_grad=True), Parameter containing:\n",
      "tensor([0.3585], requires_grad=True)]\n"
     ]
    }
   ],
   "source": [
    "print(list(model.parameters()))"
   ]
  }
 ],
 "metadata": {
  "kernelspec": {
   "display_name": "Python 3 (ipykernel)",
   "language": "python",
   "name": "python3"
  },
  "language_info": {
   "codemirror_mode": {
    "name": "ipython",
    "version": 3
   },
   "file_extension": ".py",
   "mimetype": "text/x-python",
   "name": "python",
   "nbconvert_exporter": "python",
   "pygments_lexer": "ipython3",
   "version": "3.9.13"
  }
 },
 "nbformat": 4,
 "nbformat_minor": 5
}

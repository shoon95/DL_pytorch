{
 "cells": [
  {
   "cell_type": "markdown",
   "id": "64d8740a",
   "metadata": {},
   "source": [
    "## 1. 선형회귀식\n",
    "\n",
    "$y = Wx+b$\n",
    "<br>\n",
    "가설의 $H$를 따서 $y$ 대신 다음과 같이 표현하기도 한다.\n",
    "\n",
    "$H(x) = Wx+b$\n",
    "<br>\n",
    "$W$ : 가중치 (Weight)\n",
    "$b$ : 편향 (bias)"
   ]
  },
  {
   "cell_type": "markdown",
   "id": "f36b6028",
   "metadata": {},
   "source": [
    "## 2. 비용 함수 (Cost function)\n",
    " \n",
    "비용 함수 = 손실 함수 = 오차 함수 = 목적 함수"
   ]
  },
  {
   "cell_type": "markdown",
   "id": "6a2e52da",
   "metadata": {},
   "source": [
    "$MSE = \\frac{1}{n}\\sum_{i=1}^{n} [y^i-H(x^i)]^2$ \n",
    "<br>\n",
    "  \n",
    "$cost(W, b) = \\frac{1}{n}\\sum_{i=1}^{n} [y^i-H(x^i)]^2$\n",
    "<br>\n",
    "  \n",
    "$Cost(W, b)를 최소가 되게 만드는 W, b를 구하자!$"
   ]
  },
  {
   "cell_type": "markdown",
   "id": "037f5f4a",
   "metadata": {},
   "source": [
    "## 3. 옵티마이저 - 경사 하강법 (Gradient Descent)\n",
    "\n",
    "$ W := W - \\alpha \\frac {\\partial} {\\partial W} cost(W) $"
   ]
  },
  {
   "cell_type": "code",
   "execution_count": 8,
   "id": "4bb8bbbd",
   "metadata": {},
   "outputs": [],
   "source": [
    "import torch\n",
    "import torch.nn as nn\n",
    "import torch.nn.functional as F\n",
    "import torch.optim as optim"
   ]
  },
  {
   "cell_type": "code",
   "execution_count": 9,
   "id": "6eed3d14",
   "metadata": {},
   "outputs": [
    {
     "data": {
      "text/plain": [
       "<torch._C.Generator at 0x216ea455810>"
      ]
     },
     "execution_count": 9,
     "metadata": {},
     "output_type": "execute_result"
    }
   ],
   "source": [
    "torch.manual_seed(1)"
   ]
  },
  {
   "cell_type": "code",
   "execution_count": 10,
   "id": "b1b07d5c",
   "metadata": {},
   "outputs": [],
   "source": [
    "x_train = torch.FloatTensor([[1], [2], [3]])\n",
    "y_train = torch.FloatTensor([[2],[4], [6]])"
   ]
  },
  {
   "cell_type": "code",
   "execution_count": 11,
   "id": "c77a3c99",
   "metadata": {},
   "outputs": [
    {
     "name": "stdout",
     "output_type": "stream",
     "text": [
      "tensor([[1.],\n",
      "        [2.],\n",
      "        [3.]])\n",
      "torch.Size([3, 1])\n"
     ]
    }
   ],
   "source": [
    "print(x_train)\n",
    "print(x_train.shape)"
   ]
  },
  {
   "cell_type": "code",
   "execution_count": 12,
   "id": "87626b0b",
   "metadata": {},
   "outputs": [
    {
     "name": "stdout",
     "output_type": "stream",
     "text": [
      "tensor([[2.],\n",
      "        [4.],\n",
      "        [6.]])\n",
      "torch.Size([3, 1])\n"
     ]
    }
   ],
   "source": [
    "print(y_train)\n",
    "print(y_train.shape)"
   ]
  },
  {
   "cell_type": "code",
   "execution_count": 13,
   "id": "95d62e40",
   "metadata": {},
   "outputs": [
    {
     "name": "stdout",
     "output_type": "stream",
     "text": [
      "tensor([0.], requires_grad=True)\n"
     ]
    }
   ],
   "source": [
    "# 가중치 W를 0으로 초기화 후 학습을 통해 값이 변경되는 변수임을 명시\n",
    "W = torch.zeros(1, requires_grad=True)\n",
    "print(W)"
   ]
  },
  {
   "cell_type": "code",
   "execution_count": 14,
   "id": "63a7122e",
   "metadata": {},
   "outputs": [
    {
     "name": "stdout",
     "output_type": "stream",
     "text": [
      "tensor([0.], requires_grad=True)\n"
     ]
    }
   ],
   "source": [
    "# 가중치 b를 0으로 초기화 후 학습을 통해 값이 변경되는 변수임을 명시\n",
    "b = torch.zeros(1, requires_grad=True)\n",
    "print(b)"
   ]
  },
  {
   "cell_type": "code",
   "execution_count": 18,
   "id": "d0a083fa",
   "metadata": {},
   "outputs": [
    {
     "name": "stdout",
     "output_type": "stream",
     "text": [
      "tensor([[0.],\n",
      "        [0.],\n",
      "        [0.]], grad_fn=<AddBackward0>)\n"
     ]
    }
   ],
   "source": [
    "# 가설 선언\n",
    "hypothesis = W*x_train+b\n",
    "print(hypothesis)"
   ]
  },
  {
   "cell_type": "code",
   "execution_count": 19,
   "id": "58fc3239",
   "metadata": {},
   "outputs": [
    {
     "name": "stdout",
     "output_type": "stream",
     "text": [
      "tensor(18.6667, grad_fn=<MeanBackward0>)\n"
     ]
    }
   ],
   "source": [
    "# 비용 함수 선언\n",
    "cost = torch.mean((hypothesis-y_train)**2)\n",
    "print(cost)"
   ]
  },
  {
   "cell_type": "code",
   "execution_count": 20,
   "id": "666fbdeb",
   "metadata": {},
   "outputs": [],
   "source": [
    "# 경사 하강법 구현\n",
    "optimizer = optim.SGD([W, b], lr=0.01)"
   ]
  },
  {
   "cell_type": "code",
   "execution_count": 22,
   "id": "43747588",
   "metadata": {},
   "outputs": [],
   "source": [
    "# gradient를 0으로 초기화\n",
    "optimizer.zero_grad()"
   ]
  },
  {
   "cell_type": "code",
   "execution_count": 23,
   "id": "ecc45b6b",
   "metadata": {},
   "outputs": [],
   "source": [
    "# 비용 함수 미분하여 gradient 계산\n",
    "cost.backward()"
   ]
  },
  {
   "cell_type": "code",
   "execution_count": 25,
   "id": "1ed119b0",
   "metadata": {},
   "outputs": [],
   "source": [
    "# W, b를 업데이트\n",
    "optimizer.step()"
   ]
  },
  {
   "cell_type": "markdown",
   "id": "a7db3cb4",
   "metadata": {},
   "source": [
    "## 통합 코드"
   ]
  },
  {
   "cell_type": "code",
   "execution_count": 35,
   "id": "8baeb284",
   "metadata": {},
   "outputs": [],
   "source": [
    "# 데이터\n",
    "x_train = torch.FloatTensor([[1], [2], [3]])\n",
    "y_train = torch.FloatTensor([[2], [4], [6]])\n",
    "\n",
    "# W, b 초기화\n",
    "W = torch.ones(1, requires_grad=True)\n",
    "b = torch.ones(1, requires_grad=True)\n",
    "\n",
    "\n",
    "optimizer = optim.SGD([W, b], lr=0.01)\n",
    "n_epoch = 10000\n",
    "\n",
    "check = {}\n",
    "\n",
    "for epoch in range(n_epoch):\n",
    "    \n",
    "    # 가설\n",
    "    h = W*x_train+b \n",
    "    \n",
    "    # cost\n",
    "    cost = torch.mean((h-y_train)**2)\n",
    "    \n",
    "    # 가중치, b 업데이트\n",
    "    optimizer.zero_grad()\n",
    "    cost.backward()\n",
    "    optimizer.step()\n",
    "    \n",
    "    check[epoch] = {'cost':cost, 'W':W, 'b':b}"
   ]
  },
  {
   "cell_type": "code",
   "execution_count": 36,
   "id": "7dd9bd9a",
   "metadata": {},
   "outputs": [
    {
     "data": {
      "text/plain": [
       "{'cost': tensor(1.6667, grad_fn=<MeanBackward0>),\n",
       " 'W': tensor([2.0000], requires_grad=True),\n",
       " 'b': tensor([8.7021e-06], requires_grad=True)}"
      ]
     },
     "execution_count": 36,
     "metadata": {},
     "output_type": "execute_result"
    }
   ],
   "source": [
    "check[0]"
   ]
  },
  {
   "cell_type": "code",
   "execution_count": 40,
   "id": "08ee9674",
   "metadata": {
    "scrolled": true
   },
   "outputs": [
    {
     "data": {
      "text/plain": [
       "{'cost': tensor(1.2278e-11, grad_fn=<MeanBackward0>),\n",
       " 'W': tensor([2.0000], requires_grad=True),\n",
       " 'b': tensor([8.7021e-06], requires_grad=True)}"
      ]
     },
     "execution_count": 40,
     "metadata": {},
     "output_type": "execute_result"
    }
   ],
   "source": [
    "check[9999]"
   ]
  },
  {
   "cell_type": "markdown",
   "id": "0630c34f",
   "metadata": {},
   "source": [
    "## optimizer.zero_grad() 가 필요한 이유"
   ]
  },
  {
   "cell_type": "code",
   "execution_count": 42,
   "id": "1c699579",
   "metadata": {},
   "outputs": [
    {
     "name": "stdout",
     "output_type": "stream",
     "text": [
      "tensor(2.)\n",
      "tensor(4.)\n",
      "tensor(6.)\n",
      "tensor(8.)\n",
      "tensor(10.)\n",
      "tensor(12.)\n",
      "tensor(14.)\n",
      "tensor(16.)\n",
      "tensor(18.)\n",
      "tensor(20.)\n",
      "tensor(22.)\n",
      "tensor(24.)\n",
      "tensor(26.)\n",
      "tensor(28.)\n",
      "tensor(30.)\n",
      "tensor(32.)\n",
      "tensor(34.)\n",
      "tensor(36.)\n",
      "tensor(38.)\n",
      "tensor(40.)\n"
     ]
    }
   ],
   "source": [
    "w = torch.tensor(2.0, requires_grad=True)\n",
    "\n",
    "nb_epochs = 20\n",
    "for epoch in range(nb_epochs):\n",
    "\n",
    "    z = 2*w\n",
    "\n",
    "    z.backward()\n",
    "    print(w.grad)"
   ]
  }
 ],
 "metadata": {
  "kernelspec": {
   "display_name": "Python 3 (ipykernel)",
   "language": "python",
   "name": "python3"
  },
  "language_info": {
   "codemirror_mode": {
    "name": "ipython",
    "version": 3
   },
   "file_extension": ".py",
   "mimetype": "text/x-python",
   "name": "python",
   "nbconvert_exporter": "python",
   "pygments_lexer": "ipython3",
   "version": "3.9.13"
  }
 },
 "nbformat": 4,
 "nbformat_minor": 5
}

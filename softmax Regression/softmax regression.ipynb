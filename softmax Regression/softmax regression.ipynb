{
 "cells": [
  {
   "cell_type": "markdown",
   "id": "4d36b361",
   "metadata": {},
   "source": [
    "## 소프트맥스 함수(Softmax function)\n",
    "$ H(X) = softmax(WX+b) $"
   ]
  },
  {
   "cell_type": "markdown",
   "id": "ad09b127",
   "metadata": {},
   "source": [
    "$  p_i = \\frac {e^{zi}} {\\sum_{j=1}^{k}e^{z_j}}  \\, for \\; i = 1, 2, ..., k$"
   ]
  },
  {
   "cell_type": "code",
   "execution_count": null,
   "id": "4bf36cb5",
   "metadata": {},
   "outputs": [],
   "source": []
  },
  {
   "cell_type": "code",
   "execution_count": null,
   "id": "f00999b9",
   "metadata": {},
   "outputs": [],
   "source": []
  },
  {
   "cell_type": "code",
   "execution_count": null,
   "id": "696ba1f2",
   "metadata": {},
   "outputs": [],
   "source": []
  }
 ],
 "metadata": {
  "kernelspec": {
   "display_name": "Python 3 (ipykernel)",
   "language": "python",
   "name": "python3"
  },
  "language_info": {
   "codemirror_mode": {
    "name": "ipython",
    "version": 3
   },
   "file_extension": ".py",
   "mimetype": "text/x-python",
   "name": "python",
   "nbconvert_exporter": "python",
   "pygments_lexer": "ipython3",
   "version": "3.9.13"
  }
 },
 "nbformat": 4,
 "nbformat_minor": 5
}

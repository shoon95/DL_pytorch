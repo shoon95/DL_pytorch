{
  "nbformat": 4,
  "nbformat_minor": 0,
  "metadata": {
    "colab": {
      "provenance": []
    },
    "kernelspec": {
      "name": "python3",
      "display_name": "Python 3"
    },
    "language_info": {
      "name": "python"
    },
    "accelerator": "GPU",
    "gpuClass": "standard"
  },
  "cells": [
    {
      "cell_type": "code",
      "execution_count": 1,
      "metadata": {
        "id": "-lhK2um3EDVM"
      },
      "outputs": [],
      "source": [
        "import torch\n",
        "import torchvision.datasets as dsets\n",
        "import torchvision.transforms as transforms\n",
        "import torch.nn.init"
      ]
    },
    {
      "cell_type": "code",
      "source": [
        "device = 'cuda' if torch.cuda.is_available() else 'cpu'\n",
        "\n",
        "# 랜덤 시드 고정\n",
        "torch.manual_seed(777)\n",
        "if device == 'torch':\n",
        "  torch.cuda.seed_all(777)"
      ],
      "metadata": {
        "id": "egOhNTbREzP-"
      },
      "execution_count": 3,
      "outputs": []
    },
    {
      "cell_type": "code",
      "source": [
        "learning_rate = 0.001\n",
        "training_epochs = 15\n",
        "batch_size = 100"
      ],
      "metadata": {
        "id": "EtfmZ8gMEzM0"
      },
      "execution_count": 4,
      "outputs": []
    },
    {
      "cell_type": "code",
      "source": [
        "mnist_train = dsets.MNIST(root = 'MNIST_data/',\n",
        "                          train = True,\n",
        "                          transform = transforms.ToTensor(),\n",
        "                          download = True)\n",
        "\n",
        "mnist_test = dsets.MNIST(root = 'MNIST_data/',\n",
        "                         train = False,\n",
        "                         transform = transforms.ToTensor(),\n",
        "                         download = True)"
      ],
      "metadata": {
        "id": "liqjep0_FTMZ"
      },
      "execution_count": 7,
      "outputs": []
    },
    {
      "cell_type": "code",
      "source": [
        "data_loader = torch.utils.data.DataLoader(dataset = mnist_train,\n",
        "                                          batch_size = batch_size,\n",
        "                                          shuffle = True,\n",
        "                                          drop_last = True)"
      ],
      "metadata": {
        "id": "VOj-jDYhFrTL"
      },
      "execution_count": 9,
      "outputs": []
    },
    {
      "cell_type": "code",
      "source": [
        "class CNN(torch.nn.Module):\n",
        "  \n",
        "  def __init__(self):\n",
        "    super(CNN, self).__init__()\n",
        "    self.keep_prob = 0.5\n",
        "    # L1 ImgIn shape = (?, 28, 28, 1)\n",
        "    # Conv -> (?, 28, 28, 32)\n",
        "    # pool -> (?, 14, 14, 32)\n",
        "\n",
        "    self.layer1 = torch.nn.Sequential(\n",
        "        torch.nn.Conv2d(1, 32, kernel_size=3, stride=1, padding=1),\n",
        "        torch.nn.ReLU(),\n",
        "        torch.nn.MaxPool2d(kernel_size=2, stride=2)\n",
        "    )\n",
        "\n",
        "    self.layer2 = torch.nn.Sequential(\n",
        "        torch.nn.Conv2d(32, 64, kernel_size=3, stride=1, padding=1),\n",
        "        torch.nn.ReLU(),\n",
        "        torch.nn.MaxPool2d(kernel_size=2, stride=2)\n",
        "    )\n",
        "\n",
        "    self.layer3 = torch.nn.Sequential(\n",
        "        torch.nn.Conv2d(64, 128, kernel_size=3, stride=1, padding=1),\n",
        "        torch.nn.ReLU(),\n",
        "        torch.nn.MaxPool2d(kernel_size=2, stride=2, padding=1)\n",
        "    )\n",
        "\n",
        "    self.fc1 = torch.nn.Linear(4 * 4 * 128, 625, bias=True)\n",
        "    torch.nn.init.xavier_uniform_(self.fc1.weight)\n",
        "    self.layer4 = torch.nn.Sequential(\n",
        "        self.fc1,\n",
        "        torch.nn.ReLU(),\n",
        "        torch.nn.Dropout(p=1-self.keep_prob)\n",
        "    )\n",
        "    self.fc2 = torch.nn.Linear(625, 10, bias=True)\n",
        "    torch.nn.init.xavier_uniform_(self.fc2.weight)\n",
        "\n",
        "  def forward(self, x):\n",
        "    out = self.layer1(x)\n",
        "    out = self.layer2(out)\n",
        "    out = self.layer3(out)\n",
        "    out = out.view(out.size(0), -1)\n",
        "    out = self.layer4(out)\n",
        "    out = self.fc2(out)\n",
        "    return out\n",
        "\n"
      ],
      "metadata": {
        "id": "d3CpNGLUGAfh"
      },
      "execution_count": 31,
      "outputs": []
    },
    {
      "cell_type": "code",
      "source": [
        "model = CNN().to(device)"
      ],
      "metadata": {
        "id": "QK82EhL4JuDW"
      },
      "execution_count": 32,
      "outputs": []
    },
    {
      "cell_type": "code",
      "source": [
        "criterion = torch.nn.CrossEntropyLoss().to(device)\n",
        "optimizer = torch.optim.Adam(model.parameters(), lr=learning_rate)"
      ],
      "metadata": {
        "id": "2ZICQO2SKOA0"
      },
      "execution_count": 33,
      "outputs": []
    },
    {
      "cell_type": "code",
      "source": [
        "total_batch = len(data_loader)"
      ],
      "metadata": {
        "id": "pYZtORVsKnU0"
      },
      "execution_count": 34,
      "outputs": []
    },
    {
      "cell_type": "code",
      "source": [
        "for epoch in range(training_epochs):\n",
        "  avg_cost = 0\n",
        "  for X, Y in data_loader:\n",
        "    X = X.to(device)\n",
        "    Y = Y.to(device)\n",
        "\n",
        "    optimizer.zero_grad()\n",
        "    hypothesis = model(X)\n",
        "    cost = criterion(hypothesis, Y)\n",
        "    cost.backward()\n",
        "    optimizer.step()\n",
        "\n",
        "    avg_cost += cost / total_batch\n",
        "\n",
        "  print('[Epoch: {:>4}] cost = {:>.9}'.format(epoch + 1, avg_cost))"
      ],
      "metadata": {
        "colab": {
          "base_uri": "https://localhost:8080/"
        },
        "id": "jhZAek4KKrar",
        "outputId": "37c58a7e-2ba1-4bef-961a-85d4691b235d"
      },
      "execution_count": 35,
      "outputs": [
        {
          "output_type": "stream",
          "name": "stdout",
          "text": [
            "[Epoch:    1] cost = 0.18420352\n",
            "[Epoch:    2] cost = 0.0512271933\n",
            "[Epoch:    3] cost = 0.0369095616\n",
            "[Epoch:    4] cost = 0.0282087047\n",
            "[Epoch:    5] cost = 0.0217825007\n",
            "[Epoch:    6] cost = 0.0194286369\n",
            "[Epoch:    7] cost = 0.0162486359\n",
            "[Epoch:    8] cost = 0.0137136132\n",
            "[Epoch:    9] cost = 0.0118896989\n",
            "[Epoch:   10] cost = 0.00967418496\n",
            "[Epoch:   11] cost = 0.0105180321\n",
            "[Epoch:   12] cost = 0.00900356378\n",
            "[Epoch:   13] cost = 0.00816828851\n",
            "[Epoch:   14] cost = 0.00806200132\n",
            "[Epoch:   15] cost = 0.00694334647\n"
          ]
        }
      ]
    },
    {
      "cell_type": "code",
      "source": [
        "with torch.no_grad():\n",
        "  X_test = mnist_test.test_data.view(len(mnist_test), 1, 28, 28).float().to(device)\n",
        "  Y_test = mnist_test.test_labels.to(device)\n",
        "\n",
        "  prediction = model(X_test)\n",
        "  correct_prediction = torch.argmax(prediction, 1) == Y_test\n",
        "  accuracy = correct_prediction.float().mean()\n",
        "  print('Accuracy:', accuracy.item())"
      ],
      "metadata": {
        "colab": {
          "base_uri": "https://localhost:8080/"
        },
        "id": "DRu_P8o-LKXt",
        "outputId": "a74247e7-df9a-4651-c932-e3dd1f2b9979"
      },
      "execution_count": 36,
      "outputs": [
        {
          "output_type": "stream",
          "name": "stdout",
          "text": [
            "Accuracy: 0.9775999784469604\n"
          ]
        },
        {
          "output_type": "stream",
          "name": "stderr",
          "text": [
            "/usr/local/lib/python3.9/dist-packages/torchvision/datasets/mnist.py:80: UserWarning: test_data has been renamed data\n",
            "  warnings.warn(\"test_data has been renamed data\")\n",
            "/usr/local/lib/python3.9/dist-packages/torchvision/datasets/mnist.py:70: UserWarning: test_labels has been renamed targets\n",
            "  warnings.warn(\"test_labels has been renamed targets\")\n"
          ]
        }
      ]
    },
    {
      "cell_type": "code",
      "source": [],
      "metadata": {
        "id": "1Tm2ZfgAO6XP"
      },
      "execution_count": null,
      "outputs": []
    }
  ]
}